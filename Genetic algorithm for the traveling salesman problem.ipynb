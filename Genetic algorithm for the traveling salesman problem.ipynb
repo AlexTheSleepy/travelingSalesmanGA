{
 "cells": [
  {
   "cell_type": "code",
   "execution_count": 1,
   "id": "071374d9",
   "metadata": {},
   "outputs": [],
   "source": [
    "import numpy as np\n",
    "from collections import Counter\n",
    "from random import choices\n",
    "from tqdm import tqdm"
   ]
  },
  {
   "cell_type": "markdown",
   "id": "ae3a4ef5",
   "metadata": {},
   "source": [
    "Definiendo el mapa con una matriz de adyacencia y dos matrices de costos (tiempo y dinero):<br>\n",
    "Madrid = 0<br>\n",
    "Barcelona = 1<br>\n",
    "Paris = 2<br>\n",
    "Lyon = 3<br>\n",
    "London = 4<br>\n",
    "Brussels = 5<br>\n",
    "Frankfurt = 6<br>\n",
    "Milan = 7<br>\n",
    "Amsterdam = 8<br>\n",
    "Cologne = 9<br>\n",
    "Berlin = 10<br>\n",
    "Roma = 11\n"
   ]
  },
  {
   "cell_type": "code",
   "execution_count": 2,
   "id": "0141d8cd",
   "metadata": {},
   "outputs": [],
   "source": [
    "tiempo_max = 72*60\n",
    "\n",
    "names = [\"Madrid\", \"Barcelona\", \"Paris\", \"Lyon\", \"London\", \"Brussels\",\n",
    "                \"Frankfurt\", \"Milan\", \"Amsterdam\", \"Cologne\", \"Berlin\", \"Roma\"]\n",
    "\n",
    "adyacencia = np.asarray([\n",
    "    #0, 1, 2, 3, 4, 5, 6, 7, 8, 9, 10, 11\n",
    "    [0, 1, 1, 0, 0, 0, 0, 0, 0, 0, 0, 0], #Madrid\n",
    "    [1, 0, 1, 1, 0, 0, 0, 0, 0, 0, 0, 0], #Barcelona\n",
    "    [1, 1, 0, 1, 1, 1, 1, 0, 0, 0, 0, 0], #Paris\n",
    "    [0, 1, 1, 0, 0, 0, 0, 1, 0, 0, 0, 0], #Lyon\n",
    "    [0, 0, 1, 0, 0, 0, 0, 0, 0, 0, 0, 0], #London\n",
    "    [0, 0, 1, 0, 0, 0, 0, 0, 1, 0, 0, 0], #Brussels\n",
    "    [0, 0, 1, 0, 0, 0, 0, 1, 0, 1, 1, 0], #Frankfurt\n",
    "    [0, 0, 0, 1, 0, 0, 1, 0, 0, 0, 0, 1], #Milan\n",
    "    [0, 0, 0, 0, 0, 1, 0, 0, 0, 1, 1, 0], #Amsterdam\n",
    "    [0, 0, 0, 0, 0, 0, 1, 0, 1, 0, 0, 0], #Cologne\n",
    "    [0, 0, 0, 0, 0, 0, 1, 0, 1, 0, 0, 0], #Berlin\n",
    "    [0, 0, 0, 0, 0, 0, 0, 1, 0, 0, 0, 0], #Roma\n",
    "])\n",
    "\n",
    "costo_t = np.asarray([\n",
    "    [0, 150, 225, 0, 0, 0, 0, 0, 0, 0, 0, 0], #Madrid\n",
    "    [150, 0, 390, 200, 0, 0, 0, 0, 0, 0, 0, 0], #Barcelona\n",
    "    [225, 390, 0, 112, 136, 82, 480, 0, 0, 0, 0, 0], #Paris\n",
    "    [0, 200, 112, 0, 0, 0, 0, 176, 0, 0, 0, 0], #Lyon\n",
    "    [0, 0, 136, 0, 0, 0, 0, 0, 0, 0, 0, 0], #London\n",
    "    [0, 0, 82, 0, 0, 0, 0, 0, 120, 0, 0, 0], #Brussels\n",
    "    [0, 0, 480, 0, 0, 0, 0, 454, 0, 120, 232, 0], #Frankfurt\n",
    "    [0, 0, 0, 176, 0, 0, 454, 0, 0, 0, 0, 168], #Milan\n",
    "    [0, 0, 0, 0, 0, 120, 0, 0, 0, 120, 364, 0], #Amsterdam\n",
    "    [0, 0, 0, 0, 0, 0, 120, 0, 120, 0, 0, 0], #Cologne\n",
    "    [0, 0, 0, 0, 0, 0, 232, 0, 364, 0, 0, 0], #Berlin\n",
    "    [0, 0, 0, 0, 0, 0, 0, 168, 0, 0, 0, 0], #Roma\n",
    "])\n",
    "\n",
    "costo_d = np.asarray([\n",
    "    [0, 98, 380, 0, 0, 0, 0, 0, 0, 0, 0, 0], #Madrid\n",
    "    [98, 0, 400, 320, 0, 0, 0, 0, 0, 0, 0, 0], #Barcelona\n",
    "    [380, 400, 0, 185, 98, 80, 345, 0, 0, 0, 0, 0], #Paris\n",
    "    [0, 320, 185, 0, 0, 0, 0, 180, 0, 0, 0, 0], #Lyon\n",
    "    [0, 0, 98, 0, 0, 0, 0, 0, 0, 0, 0, 0], #London\n",
    "    [0, 0, 80, 0, 0, 0, 0, 0, 48, 0, 0, 0], #Brussels\n",
    "    [0, 0, 345, 0, 0, 0, 0, 240, 0, 40, 125, 0], #Frankfurt\n",
    "    [0, 0, 0, 180, 0, 0, 240, 0, 0, 0, 0, 125], #Milan\n",
    "    [0, 0, 0, 0, 0, 48, 0, 0, 0, 40, 235, 0], #Amsterdam\n",
    "    [0, 0, 0, 0, 0, 0, 40, 0, 40, 0, 0, 0], #Cologne\n",
    "    [0, 0, 0, 0, 0, 0, 125, 0, 235, 0, 0, 0], #Berlin\n",
    "    [0, 0, 0, 0, 0, 0, 0, 125, 0, 0, 0, 0], #Roma\n",
    "])"
   ]
  },
  {
   "cell_type": "code",
   "execution_count": 3,
   "id": "5a9be3c4",
   "metadata": {},
   "outputs": [
    {
     "name": "stdout",
     "output_type": "stream",
     "text": [
      "['Madrid', 'Barcelona', 'Paris', 'Lyon', 'London', 'Brussels', 'Frankfurt', 'Milan', 'Amsterdam', 'Cologne', 'Berlin', 'Roma']\n"
     ]
    }
   ],
   "source": [
    "print(names)"
   ]
  },
  {
   "cell_type": "code",
   "execution_count": 4,
   "id": "3d761b00",
   "metadata": {},
   "outputs": [
    {
     "name": "stdout",
     "output_type": "stream",
     "text": [
      "[[0 1 1 0 0 0 0 0 0 0 0 0]\n",
      " [1 0 1 1 0 0 0 0 0 0 0 0]\n",
      " [1 1 0 1 1 1 1 0 0 0 0 0]\n",
      " [0 1 1 0 0 0 0 1 0 0 0 0]\n",
      " [0 0 1 0 0 0 0 0 0 0 0 0]\n",
      " [0 0 1 0 0 0 0 0 1 0 0 0]\n",
      " [0 0 1 0 0 0 0 1 0 1 1 0]\n",
      " [0 0 0 1 0 0 1 0 0 0 0 1]\n",
      " [0 0 0 0 0 1 0 0 0 1 1 0]\n",
      " [0 0 0 0 0 0 1 0 1 0 0 0]\n",
      " [0 0 0 0 0 0 1 0 1 0 0 0]\n",
      " [0 0 0 0 0 0 0 1 0 0 0 0]]\n"
     ]
    }
   ],
   "source": [
    "print(adyacencia)"
   ]
  },
  {
   "cell_type": "code",
   "execution_count": 5,
   "id": "b3dd1b9b",
   "metadata": {},
   "outputs": [
    {
     "name": "stdout",
     "output_type": "stream",
     "text": [
      "[[  0 150 225   0   0   0   0   0   0   0   0   0]\n",
      " [150   0 390 200   0   0   0   0   0   0   0   0]\n",
      " [225 390   0 112 136  82 480   0   0   0   0   0]\n",
      " [  0 200 112   0   0   0   0 176   0   0   0   0]\n",
      " [  0   0 136   0   0   0   0   0   0   0   0   0]\n",
      " [  0   0  82   0   0   0   0   0 120   0   0   0]\n",
      " [  0   0 480   0   0   0   0 454   0 120 232   0]\n",
      " [  0   0   0 176   0   0 454   0   0   0   0 168]\n",
      " [  0   0   0   0   0 120   0   0   0 120 364   0]\n",
      " [  0   0   0   0   0   0 120   0 120   0   0   0]\n",
      " [  0   0   0   0   0   0 232   0 364   0   0   0]\n",
      " [  0   0   0   0   0   0   0 168   0   0   0   0]]\n"
     ]
    }
   ],
   "source": [
    "print(costo_t)"
   ]
  },
  {
   "cell_type": "code",
   "execution_count": 6,
   "id": "15e61b41",
   "metadata": {
    "scrolled": true
   },
   "outputs": [
    {
     "name": "stdout",
     "output_type": "stream",
     "text": [
      "[[  0  98 380   0   0   0   0   0   0   0   0   0]\n",
      " [ 98   0 400 320   0   0   0   0   0   0   0   0]\n",
      " [380 400   0 185  98  80 345   0   0   0   0   0]\n",
      " [  0 320 185   0   0   0   0 180   0   0   0   0]\n",
      " [  0   0  98   0   0   0   0   0   0   0   0   0]\n",
      " [  0   0  80   0   0   0   0   0  48   0   0   0]\n",
      " [  0   0 345   0   0   0   0 240   0  40 125   0]\n",
      " [  0   0   0 180   0   0 240   0   0   0   0 125]\n",
      " [  0   0   0   0   0  48   0   0   0  40 235   0]\n",
      " [  0   0   0   0   0   0  40   0  40   0   0   0]\n",
      " [  0   0   0   0   0   0 125   0 235   0   0   0]\n",
      " [  0   0   0   0   0   0   0 125   0   0   0   0]]\n"
     ]
    }
   ],
   "source": [
    "print(costo_d)"
   ]
  },
  {
   "cell_type": "code",
   "execution_count": 7,
   "id": "23230870",
   "metadata": {},
   "outputs": [],
   "source": [
    "def first_generation(pop_size, gen_size):\n",
    "    generation = []\n",
    "    for i in range(pop_size):\n",
    "        generation.append(create_genome(gen_size))\n",
    "    return generation\n",
    "    \n",
    "def next_generation(pop, pop_size, elitism_coef):\n",
    "    fit = pop_fitness(pop)\n",
    "    if np.all(fit == 0) or sum(fit) == 0:\n",
    "        return first_generation(pop_size, gen_size)\n",
    "    \n",
    "    citiesno = cities(pop)\n",
    "    temp = pop\n",
    "    temp.sort(key = fitness, reverse = True)\n",
    "    for i in range(len(fit)):\n",
    "        if fit[i] != 0:\n",
    "            fit[i]+= citiesno[i]\n",
    "    \n",
    "    nextgen = []\n",
    "    for i in range(elitism_coef):\n",
    "        nextgen.append(temp[i])\n",
    "    \n",
    "    for i in range(int(np.floor((pop_size - elitism_coef)/2))):\n",
    "        pair = choices(pop, weights = fit, k = 2)\n",
    "        nextgen.extend(mutate(pair[0], pair[1]))\n",
    "    \n",
    "    return nextgen\n",
    "    \n",
    "    \n",
    "def create_genome(gen_size):\n",
    "    genome = []\n",
    "    genome.append(int(np.random.randint(city_no)))\n",
    "    for i in range(gen_size):\n",
    "        flag = True\n",
    "        dobreak = False\n",
    "        \n",
    "        while flag:\n",
    "            j  = int(np.random.randint(0, city_no))\n",
    "            if adyacencia[genome[-1], j] == 1:\n",
    "                flag = False\n",
    "            \n",
    "            if cities([genome])[0] == city_no:\n",
    "                dobreak = True\n",
    "        if dobreak: break\n",
    "        genome.append(j)\n",
    "    \n",
    "    return genome\n",
    "\n",
    "def solution(genome):\n",
    "    solution = \"\"\n",
    "    for i in range(len(genome)-1):\n",
    "       solution += f\"{names[genome[i]]} -> \"\n",
    "    solution+= f\"{names[genome[-1]]}\"\n",
    "    return solution\n",
    "\n",
    "def pop_fitness(population):\n",
    "    fit = []\n",
    "    for x in population:\n",
    "        fit.append(fitness(x))\n",
    "\n",
    "    totcost = 0\n",
    "    for i in range(len(fit)):\n",
    "        totcost += fit[i]\n",
    "    \n",
    "    cont = 0\n",
    "    for i in range(len(fit)):\n",
    "        if fit[i] != 0:\n",
    "            cont+=1\n",
    "    \n",
    "    for i in range(len(fit)):\n",
    "        if cont == 1:\n",
    "            fit[i] = fit[i]/(totcost)\n",
    "        elif(cont > 1):\n",
    "            fit[i] = (1 - (fit[i]/totcost))/(cont-1)\n",
    "    \n",
    "            \n",
    "    return fit\n",
    "\n",
    "def fitness(genome):\n",
    "    cost = 0\n",
    "    time = 0\n",
    "    for i in range(len(genome)-1):\n",
    "        if genome[i] == genome[i+1]:\n",
    "            break\n",
    "        else:\n",
    "            cost += costo_d[genome[i]][genome[i+1]]\n",
    "            time += costo_t[genome[i]][genome[i+1]]\n",
    "    if time > tiempo_max:\n",
    "        return 0\n",
    "    \n",
    "    return cost\n",
    "\n",
    "def cities(pop):\n",
    "    cit = []\n",
    "    for genome in pop:\n",
    "        counter_object = Counter(genome)\n",
    "        keys = counter_object.keys()\n",
    "        cit.append(len(keys))\n",
    "    return cit\n",
    "    \n",
    "def mutate(genome1, genome2): \n",
    "    if set(genome1).intersection(genome2) == set():\n",
    "        child1 = create_genome(len(genome1))\n",
    "        child2 = create_genome(len(genome2))\n",
    "        return child1, child2\n",
    "    \n",
    "    while True:\n",
    "        city = int(np.random.randint(0, city_no))        \n",
    "        if (city in genome1) and (city in genome2):\n",
    "            p = genome1.index(city)\n",
    "            q = genome2.index(city)\n",
    "            child1 = genome1[:p] + genome2[q:]\n",
    "            child2 = genome2[:q] + genome1[p:]\n",
    "            return child1, child2\n",
    "    "
   ]
  },
  {
   "cell_type": "code",
   "execution_count": 8,
   "id": "85b4d4ef",
   "metadata": {},
   "outputs": [
    {
     "name": "stdout",
     "output_type": "stream",
     "text": [
      "[4, 2, 6, 9, 8, 9, 8, 10, 6, 2, 4, 2, 3, 2, 1, 2, 3, 7, 6, 2, 6, 7, 3, 7, 3, 7, 3, 2, 3, 1, 0, 1, 3, 2, 5]\n",
      "London -> Paris -> Frankfurt -> Cologne -> Amsterdam -> Cologne -> Amsterdam -> Berlin -> Frankfurt -> Paris -> London -> Paris -> Lyon -> Paris -> Barcelona -> Paris -> Lyon -> Milan -> Frankfurt -> Paris -> Frankfurt -> Milan -> Lyon -> Milan -> Lyon -> Milan -> Lyon -> Paris -> Lyon -> Barcelona -> Madrid -> Barcelona -> Lyon -> Paris -> Brussels\n",
      "<class 'int'>\n",
      "0\n"
     ]
    }
   ],
   "source": [
    "city_no = len(adyacencia)-1\n",
    "pop_size = 16\n",
    "gen_size = 60\n",
    "epochs = 600\n",
    "elitism_coef = 2\n",
    "\n",
    "genome = create_genome(gen_size)\n",
    "solución = solution(genome)\n",
    "\n",
    "\n",
    "print(genome)\n",
    "print(solución)\n",
    "print(type(genome[0]))\n",
    "print(fitness(genome))"
   ]
  },
  {
   "cell_type": "markdown",
   "id": "1f539163",
   "metadata": {},
   "source": [
    "Creando \"hijos\" de la población anterior"
   ]
  },
  {
   "cell_type": "code",
   "execution_count": 9,
   "id": "e9d28974",
   "metadata": {
    "scrolled": false
   },
   "outputs": [
    {
     "name": "stdout",
     "output_type": "stream",
     "text": [
      "[9, 8, 9, 8, 5, 8, 10, 8, 10, 6, 9, 6, 2, 1, 2, 5, 2, 5, 8, 9, 6, 7, 3, 7, 3, 2, 6, 10, 8, 10, 8, 5, 8, 9, 8, 5, 8, 5, 8, 10, 6, 9, 6, 10, 6, 10, 8, 10, 8, 5, 2, 5, 8, 10, 6, 9, 6, 9, 6, 2, 1, 0, 2, 6, 9, 8, 9, 8, 5, 2, 6, 9, 8, 9, 6, 10, 8, 10, 8, 9, 6]\n",
      "0\n",
      "Cologne -> Amsterdam -> Cologne -> Amsterdam -> Brussels -> Amsterdam -> Berlin -> Amsterdam -> Berlin -> Frankfurt -> Cologne -> Frankfurt -> Paris -> Barcelona -> Paris -> Brussels -> Paris -> Brussels -> Amsterdam -> Cologne -> Frankfurt -> Milan -> Lyon -> Milan -> Lyon -> Paris -> Frankfurt -> Berlin -> Amsterdam -> Berlin -> Amsterdam -> Brussels -> Amsterdam -> Cologne -> Amsterdam -> Brussels -> Amsterdam -> Brussels -> Amsterdam -> Berlin -> Frankfurt -> Cologne -> Frankfurt -> Berlin -> Frankfurt -> Berlin -> Amsterdam -> Berlin -> Amsterdam -> Brussels -> Paris -> Brussels -> Amsterdam -> Berlin -> Frankfurt -> Cologne -> Frankfurt -> Cologne -> Frankfurt -> Paris -> Barcelona -> Madrid -> Paris -> Frankfurt -> Cologne -> Amsterdam -> Cologne -> Amsterdam -> Brussels -> Paris -> Frankfurt -> Cologne -> Amsterdam -> Cologne -> Frankfurt -> Berlin -> Amsterdam -> Berlin -> Amsterdam -> Cologne -> Frankfurt\n",
      "\n",
      "[6, 2, 3, 1, 3, 2, 1, 3, 2, 6, 9, 8, 9, 8, 5, 8, 10, 8, 10, 8, 5, 8, 10, 8, 10, 6, 10, 8, 10, 6, 10, 8, 10, 8, 9, 8, 10, 6, 9, 8, 9]\n",
      "0\n",
      "Frankfurt -> Paris -> Lyon -> Barcelona -> Lyon -> Paris -> Barcelona -> Lyon -> Paris -> Frankfurt -> Cologne -> Amsterdam -> Cologne -> Amsterdam -> Brussels -> Amsterdam -> Berlin -> Amsterdam -> Berlin -> Amsterdam -> Brussels -> Amsterdam -> Berlin -> Amsterdam -> Berlin -> Frankfurt -> Berlin -> Amsterdam -> Berlin -> Frankfurt -> Berlin -> Amsterdam -> Berlin -> Amsterdam -> Cologne -> Amsterdam -> Berlin -> Frankfurt -> Cologne -> Amsterdam -> Cologne\n",
      "\n"
     ]
    }
   ],
   "source": [
    "genome1 = create_genome(gen_size)\n",
    "genome2 = create_genome(gen_size)\n",
    "\n",
    "children = mutate(genome1, genome2)\n",
    "\n",
    "for child in children:\n",
    "    print(child)\n",
    "    print(fitness(child))\n",
    "    print(solution(child))\n",
    "    print()"
   ]
  },
  {
   "cell_type": "markdown",
   "id": "b63fa1a8",
   "metadata": {},
   "source": [
    "Evaluando la "
   ]
  },
  {
   "cell_type": "code",
   "execution_count": 10,
   "id": "1b443339",
   "metadata": {
    "scrolled": true
   },
   "outputs": [
    {
     "name": "stdout",
     "output_type": "stream",
     "text": [
      "[8, 9, 6, 10, 6, 10, 8, 10, 8, 9, 6, 2, 4, 2, 6, 2, 0, 2, 6, 7, 6, 10, 8, 5, 2, 4, 2, 3, 2, 0, 1]\n",
      "[6, 7, 3, 1, 0, 2, 1, 2, 6, 10, 8, 9, 8, 10, 6, 9, 6, 10, 8, 10, 8, 9, 8, 9, 8, 10, 6, 10, 6, 9, 8, 5, 8, 9, 6, 9, 6, 10, 8, 10, 8, 5, 8, 10, 8, 10, 6, 9, 8, 9, 6, 9, 8, 5, 2, 0, 2, 6, 7, 3, 2]\n",
      "[6, 2, 1, 2, 1, 2, 5, 2, 4, 2, 6, 2, 5, 8, 10, 8, 10, 6, 7, 3, 1, 2, 0, 1, 0, 2, 4, 2, 6, 9]\n",
      "[7, 6, 10, 8, 9, 6, 7, 6, 2, 5, 2, 6, 7, 6, 10, 8, 5, 2, 0, 1, 3, 7, 6, 2, 4]\n",
      "[8, 9, 6, 9, 8, 9, 8, 9, 6, 7, 6, 7, 6, 2, 0, 2, 3, 7, 3, 1, 0, 2, 3, 1, 3, 1, 2, 1, 0, 2, 6, 2, 1, 2, 0, 1, 0, 1, 0, 1, 3, 1, 2, 3, 1, 3, 1, 0, 1, 0, 1, 3, 1, 0, 2, 1, 2, 0, 2, 5, 2]\n",
      "[1, 2, 0, 1, 2, 1, 2, 0, 1, 2, 1, 3, 1, 0, 1, 2, 6, 7, 3, 2, 0, 1, 2, 0, 1, 2, 4, 2, 1, 2, 3, 2, 3, 7, 6, 10, 8, 5, 2, 1, 2, 0, 1, 0, 2, 1, 3, 1, 3, 7, 3, 7, 3, 7, 3, 7, 6, 7, 6, 2, 0]\n",
      "[6, 7, 3, 2, 1, 2, 5, 2, 5, 2, 6, 2, 4, 2, 1, 2, 3, 1, 3, 7, 6, 2, 1, 2, 3, 7, 6, 2, 0, 1, 0, 1, 0, 2, 5, 2, 4, 2, 1, 2, 6, 7, 3, 1, 0, 1, 2, 3, 7, 3, 7, 3, 2, 5, 2, 1, 2, 0, 1, 2, 6]\n",
      "[9, 8, 9, 8, 10, 6, 9, 6, 7, 3, 1, 3, 2, 5, 2, 4, 2, 4, 2, 4, 2, 3, 7, 3, 1, 3, 2, 5, 8, 5, 2, 5, 8, 9, 6, 7, 6, 7, 3, 1, 0]\n",
      "[4, 2, 5, 2, 3, 7, 6, 2, 1, 0, 1, 2, 6, 2, 6, 9, 6, 2, 5, 2, 1, 0, 2, 3, 1, 2, 0, 1, 3, 2, 5, 8, 9, 6, 10]\n",
      "[6, 9, 6, 9, 8, 9, 8, 5, 2, 3, 7, 6, 10, 6, 7, 3, 1, 0, 1, 3, 1, 3, 7, 6, 9, 6, 9, 8, 9, 8, 5, 2, 5, 2, 3, 1, 2, 3, 1, 3, 2, 5, 8, 5, 8, 10, 6, 2, 4]\n",
      "[10, 8, 10, 8, 9, 6, 9, 6, 10, 8, 10, 8, 9, 6, 7, 3, 1, 3, 2, 4, 2, 3, 7, 6, 2, 6, 9, 6, 7, 6, 7, 3, 2, 6, 10, 8, 10, 6, 9, 8, 10, 8, 10, 8, 10, 8, 5, 8, 5, 8, 9, 6, 7, 6, 9, 6, 7, 3, 1, 3, 7]\n",
      "[5, 2, 1, 0, 2, 1, 0, 2, 1, 2, 4, 2, 3, 1, 3, 7, 6, 7, 3, 1, 2, 5, 8, 9, 8, 10]\n",
      "[10, 8, 5, 2, 4, 2, 4, 2, 0, 2, 0, 1, 0, 1, 3, 2, 1, 0, 2, 6, 2, 5, 8, 10, 8, 5, 8, 9, 8, 10, 6, 10, 8, 9, 8, 10, 6, 9, 6, 2, 1, 0, 2, 6, 2, 4, 2, 1, 3, 1, 0, 2, 6, 7]\n",
      "[0, 1, 2, 4, 2, 3, 7, 3, 1, 2, 6, 9, 8, 10, 8, 10, 6, 2, 5]\n",
      "[4, 2, 3, 7, 3, 7, 6, 7, 3, 2, 0, 1, 0, 2, 3, 7, 3, 1, 0, 1, 0, 2, 3, 7, 3, 7, 6, 7, 6, 10, 8, 9, 6, 2, 6, 9, 6, 10, 8, 10, 6, 2, 0, 1, 2, 4, 2, 6, 2, 0, 1, 0, 1, 0, 2, 5]\n",
      "[2, 4, 2, 5, 2, 0, 2, 1, 3, 7, 3, 2, 3, 2, 6, 10, 6, 7, 3, 1, 3, 7, 3, 7, 6, 10, 8, 10, 6, 2, 1, 0, 1, 3, 7, 3, 7, 3, 1, 0, 2, 6, 2, 3, 2, 4, 2, 4, 2, 3, 2, 5, 2, 3, 1, 3, 7, 3, 2, 0, 1]\n",
      "0\n",
      "0\n",
      "0\n",
      "0\n",
      "0\n",
      "0\n",
      "0\n",
      "0\n",
      "0\n",
      "0\n",
      "0\n",
      "0\n",
      "0\n",
      "0\n",
      "0\n",
      "0\n"
     ]
    }
   ],
   "source": [
    "pop = first_generation(pop_size, gen_size)\n",
    "pop = next_generation(pop, pop_size, elitism_coef)\n",
    "fit = pop_fitness(pop)\n",
    "for gene in pop:\n",
    "    print(gene)\n",
    "for x in fit:\n",
    "    print(x)"
   ]
  },
  {
   "cell_type": "code",
   "execution_count": 53,
   "id": "eea291b9",
   "metadata": {
    "scrolled": false
   },
   "outputs": [
    {
     "name": "stderr",
     "output_type": "stream",
     "text": [
      "  0%|                                                                                | 1/1200 [00:00<00:11, 105.15it/s]"
     ]
    },
    {
     "name": "stdout",
     "output_type": "stream",
     "text": [
      "Roma -> Milan -> Lyon -> Milan -> Frankfurt -> Berlin -> Amsterdam -> Brussels -> Paris -> Barcelona -> Madrid -> Paris -> London -> Paris -> Frankfurt -> Cologne\n",
      "12\n",
      "2672\n"
     ]
    },
    {
     "name": "stderr",
     "output_type": "stream",
     "text": [
      "\n"
     ]
    }
   ],
   "source": [
    "city_no = len(adyacencia)\n",
    "pop_size = 100\n",
    "gen_size = 60\n",
    "epochs =1200\n",
    "elitism_coef = 2\n",
    "\n",
    "while True:\n",
    "    pop = first_generation(pop_size, gen_size)\n",
    "    for i in tqdm(range(epochs)):\n",
    "        pop = next_generation(pop, pop_size, elitism_coef)\n",
    "        if pop[-1] == pop[0]:\n",
    "            break\n",
    "\n",
    "    pop.sort(key = fitness, reverse = True)\n",
    "    fit = pop_fitness(pop)\n",
    "    if cities(pop)[0] == 12:\n",
    "        break\n",
    "    \n",
    "\n",
    "print(solution(pop[0]))\n",
    "print(cities(pop)[0])\n",
    "print(fitness(pop[0]))"
   ]
  },
  {
   "cell_type": "code",
   "execution_count": null,
   "id": "5daa90ad",
   "metadata": {},
   "outputs": [],
   "source": []
  },
  {
   "cell_type": "code",
   "execution_count": null,
   "id": "aca72566",
   "metadata": {},
   "outputs": [],
   "source": []
  }
 ],
 "metadata": {
  "kernelspec": {
   "display_name": "Python 3 (ipykernel)",
   "language": "python",
   "name": "python3"
  },
  "language_info": {
   "codemirror_mode": {
    "name": "ipython",
    "version": 3
   },
   "file_extension": ".py",
   "mimetype": "text/x-python",
   "name": "python",
   "nbconvert_exporter": "python",
   "pygments_lexer": "ipython3",
   "version": "3.9.16"
  }
 },
 "nbformat": 4,
 "nbformat_minor": 5
}
